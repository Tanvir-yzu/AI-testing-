{
 "cells": [
  {
   "cell_type": "markdown",
   "id": "35682a4f",
   "metadata": {},
   "source": [
    "## 🔄  Selection Sort (সিলেকশন সর্ট)\n",
    "📌 কী কাজ করে?\n",
    "এটি একটি ​সরল Sorting Algorithm, যেখানে আমরা ​প্রতিটি পজিশনের জন্য সেই সবচেয়ে ছোট উপাদানটি খুঁজে বের করি এবং সেটিকে সেই স্থানে রাখি।​\n",
    "\n",
    "⚙️ কাজের ধারা:\n",
    "প্রথমে পুরো লিস্টের মধ্যে ​সবচেয়ে ছোট উপাদানটি খুঁজো।\n",
    "\n",
    "সেটিকে ​প্রথম পজিশনে রাখো।\n",
    "\n",
    "এরপর ২য় পজিশন থেকে শুরু করে আবার ​সবচেয়ে ছোট উপাদানটি খুঁজো​ এবং ​দ্বিতীয় পজিশনে রাখো।\n",
    "\n",
    "এভাবে চলতে থাকো পুরো লিস্ট সাজানো পর্যন্ত।\n",
    "\n",
    "⏱️ সময় জটিলতা:\n",
    "​Worst/Average/Best Case:​​ ​O(n²)​​ → ধীর সর্টিং অ্যালগরিদম (বড় ডেটার জন্য উপযুক্ত নয়)"
   ]
  },
  {
   "cell_type": "code",
   "execution_count": 5,
   "id": "56c6ba43",
   "metadata": {},
   "outputs": [],
   "source": [
    "def selection_sort(arr):\n",
    "    n = len(arr)\n",
    "    for i in range(n):\n",
    "        min_idx = i\n",
    "        for j in range(i+1, n):\n",
    "            if arr[j] < arr[min_idx]:\n",
    "                min_idx = j\n",
    "        # Move swap operation outside inner loop\n",
    "        arr[i], arr[min_idx] = arr[min_idx], arr[i]\n",
    "    return arr"
   ]
  },
  {
   "cell_type": "code",
   "execution_count": 7,
   "id": "cd2c6340",
   "metadata": {},
   "outputs": [
    {
     "data": {
      "text/plain": [
       "[10, 20, 30, 50, 60]"
      ]
     },
     "execution_count": 7,
     "metadata": {},
     "output_type": "execute_result"
    }
   ],
   "source": [
    "arr = [20,60,30,10,50]\n",
    "selection_sort(arr)\n",
    "arr\n"
   ]
  },
  {
   "cell_type": "markdown",
   "id": "457bc574",
   "metadata": {},
   "source": [
    "## 🔍  Binary Search (বাইনারি সার্চ)\n",
    "📌 কী কাজ করে?\n",
    "এটি একটি ​দ্রুত অনুসন্ধান পদ্ধতি, কিন্তু ​শর্ত থাকে — লিস্টটি সর্টেড (ক্রমানুসারে সাজানো) হতে হবে।​\n",
    "\n",
    "এটি ​​\"Divide and Conquer\"​​ পদ্ধতিতে কাজ করে — অর্থাৎ লিস্টকে বারবার দুই ভাগে ভাগ করে খুঁজে পায়।\n",
    "\n",
    "⚙️ কাজের ধারা:\n",
    "লিস্টটি সর্টেড থাকতে হবে (ছোট থেকে বড় বা বড় থেকে ছোট)।\n",
    "\n",
    "মাঝখানের উপাদানটি চেক করো।\n",
    "\n",
    "যদি মাঝখানের উপাদানটি আমাদের টার্গেটের সাথে মিলে যায় — তাহলে পাওয়া গেছে।\n",
    "\n",
    "যদি টার্গেটটি মাঝখানের চেয়ে ছোট হয় — তাহলে ডান অংশ বাদ দিয়ে বাম অংশে খোঁজা চালিয়ে যাও।\n",
    "\n",
    "যদি বড় হয় — তাহলে বাম অংশ বাদ দিয়ে ডান অংশে খোঁজা চালিয়ে যাও।\n",
    "\n",
    "⏱️ সময় জটিলতা:\n",
    "​Worst/Average/Best Case:​​ ​O(log n)​​ → খুবই দ্রুত"
   ]
  },
  {
   "cell_type": "code",
   "execution_count": 8,
   "id": "da70fd31",
   "metadata": {},
   "outputs": [],
   "source": [
    "def binary_search(arr, t):\n",
    "    l = 0\n",
    "    r= len(arr)-1\n",
    "    while l<=r :\n",
    "        m = (l+r) //2\n",
    "        if arr[m] == t:\n",
    "            return m\n",
    "        elif arr[m] < t :\n",
    "            l = m+1\n",
    "        else :\n",
    "            r = m-1\n",
    "    return -1   \n"
   ]
  },
  {
   "cell_type": "code",
   "execution_count": 10,
   "id": "9fd840a4",
   "metadata": {},
   "outputs": [
    {
     "name": "stdout",
     "output_type": "stream",
     "text": [
      "Index of 20 is 0\n"
     ]
    }
   ],
   "source": [
    "arr = [20,60,30,10,50]\n",
    "t = 20\n",
    "binary_search(arr, t)\n",
    "print(f\"Index of {t} is {binary_search(arr, t)}\")"
   ]
  },
  {
   "cell_type": "markdown",
   "id": "0051902d",
   "metadata": {},
   "source": [
    "## 🫧 Bubble Sort (বাবল সর্ট)\n",
    "📌 কী কাজ করে?\n",
    "​Bubble Sort​ হলো এমন একটি সরল সর্টিং অ্যালগরিদম যেখানে ​প্রতিবার লিস্টের প্রতিবেশী (adjacent) উপাদান দুটি তুলনা করে, যদি তাদের ক্রম ভুল হয় (যেমন ছোট উপাদানটি বড়টির পরে থাকে) তাহলে তাদের ​অদলবদল (swap) করা হয়।​\n",
    "\n",
    "এই প্রক্রিয়াটি ​বারবার চালানো হয় যতক্ষণ না সমস্ত উপাদান সঠিক ক্রমে (ascending/descending) সাজে।​\n",
    "\n",
    "🌀 কেন একে \"Bubble\" (বুদবুদ) বলা হয়?\n",
    "কারণ বড় উপাদানগুলো ধীরে ধীরে ​উপর থেকে নিচে নামে যেন বুদবুদের মতো, আর ছোট উপাদানগুলো উপরে উঠে আসে।\n",
    "\n",
    "⚙️ ধাপে ধাপে কাজের প্রক্রিয়া:\n",
    "ধরা যাক আমাদের একটি অ্যারে আছে:\n",
    "\n",
    "[5, 3, 8, 4, 2]→ এটি ​Ascending (ছোট থেকে বড়)​​ ক্রমে সাজাতে হবে।\n",
    "\n",
    "🔁 প্রতিটি ​Pass (চক্র)​:\n",
    "​প্রথম Pass:​​\n",
    "\n",
    "5 ↔ 3 → Swap → [3, 5, 8, 4, 2]\n",
    "\n",
    "5 ↔ 8 → No Swap\n",
    "\n",
    "8 ↔ 4 → Swap → [3, 5, 4, 8, 2]\n",
    "\n",
    "8 ↔ 2 → Swap → [3, 5, 4, 2, 8]\n",
    "\n",
    "→ এখন সবচেয়ে বড় উপাদান 8শেষে চলে গেছে।\n",
    "\n",
    "​দ্বিতীয় Pass:​​\n",
    "\n",
    "3 ↔ 5 → No Swap\n",
    "\n",
    "5 ↔ 4 → Swap → [3, 4, 5, 2, 8]\n",
    "\n",
    "5 ↔ 2 → Swap → [3, 4, 2, 5, 8]\n",
    "\n",
    "→ এখন দ্বিতীয় বৃহত্তম 5ঠিক জায়গায় চলে গেছে।\n",
    "\n",
    "​তৃতীয় Pass:​​\n",
    "\n",
    "3 ↔ 4 → No Swap\n",
    "\n",
    "4 ↔ 2 → Swap → [3, 2, 4, 5, 8]\n",
    "\n",
    "→ 4ঠিক জায়গায় চলে গেছে।\n",
    "\n",
    "​চতুর্থ Pass:​​\n",
    "\n",
    "3 ↔ 2 → Swap → [2, 3, 4, 5, 8]\n",
    "\n",
    "→ এখন সব উপাদান ঠিক ক্রমে সাজানো হয়ে গেছে।\n",
    "\n",
    "✅ ​সর্টিং সম্পন্ন।​\n",
    "\n",
    "⏱️ সময় জটিলতা:\n",
    "​Worst Case / Average Case:​​ O(n²) → যখন অ্যারেটি উল্টো ক্রমে থাকে (Descending থেকে Ascending সাজাতে হবে)\n",
    "\n",
    "​Best Case:​​ O(n) → যদি অ্যারেটি ইতিমধ্যেই সাজানো থাকে (কিন্তু চেক করতে হবে)"
   ]
  },
  {
   "cell_type": "code",
   "execution_count": 16,
   "id": "80138741",
   "metadata": {},
   "outputs": [],
   "source": [
    "def bubble_sort(arr):\n",
    "    n = len(arr)\n",
    "    for i in range(n):\n",
    "        swapped = False\n",
    "        for j in range(0, n-i-1):\n",
    "            if arr[j] > arr[j+1]:\n",
    "                arr[j], arr[j+1] = arr[j+1], arr[j]\n",
    "                swapped = True\n",
    "        if not swapped:\n",
    "            break\n",
    "    return arr"
   ]
  },
  {
   "cell_type": "code",
   "execution_count": 17,
   "id": "fcc464ae",
   "metadata": {},
   "outputs": [
    {
     "data": {
      "text/plain": [
       "[10, 20, 30, 50, 60]"
      ]
     },
     "execution_count": 17,
     "metadata": {},
     "output_type": "execute_result"
    }
   ],
   "source": [
    "arr = [20,60,30,10,50]\n",
    "bubble_sort(arr)\n",
    "arr"
   ]
  },
  {
   "cell_type": "markdown",
   "id": "b5b3cca5",
   "metadata": {},
   "source": [
    "##  🧩 Insertion Sort (ইনসারশন সর্ট)\n",
    "📌 কী কাজ করে?\n",
    "​Insertion Sort​ হলো এমন একটি অ্যালগরিদম যেখানে আমরা ​প্রতিটি উপাদানকে একে একে সঠিক জায়গায় \"ঢুকিয়ে\" দিই, যেন এটি তার আগের সব উপাদানের সাথে ঠিক ক্রমে থাকে।\n",
    "\n",
    "এটি কাজ করে যেভাবে:\n",
    "\n",
    "👉 ধরুন আপনি একটি ​কার্ড গেমে​ কার্ড একে একে হাতে নিয়ে ঠিক ক্রমে সাজাচ্ছেন — প্রতিটি নতুন কার্ড আপনি ঠিক জায়গায় ঢুকিয়ে দেন।\n",
    "\n",
    "⚙️ ধাপে ধাপে কাজের প্রক্রিয়া:\n",
    "ধরা যাক আমাদের অ্যারে হলো:\n",
    "\n",
    "[12, 11, 13, 5, 6]→ এটি ​Ascending (ছোট থেকে বড়)​​ ক্রমে সাজাতে হবে।\n",
    "\n",
    "🔁 প্রতিটি ​উপাদান ঢোকানোর প্রক্রিয়া:\n",
    "​প্রথম উপাদান (12)​​ → এটি একা থাকলেই সাজানো থাকে।\n",
    "\n",
    "​দ্বিতীয় উপাদান (11)​​ → 11 < 12 → তাই 11 কে 12 এর আগে ঢুকিয়ে দেওয়া হয় → [11, 12, 13, 5, 6]\n",
    "\n",
    "​তৃতীয় উপাদান (13)​​ → 13 > 12 → কিছু করতে হয় না → [11, 12, 13, 5, 6]\n",
    "\n",
    "​চতুর্থ উপাদান (5)​​ → 5 কে ঠিক জায়গায় ঢুকিয়ে দেওয়া হয় → [5, 11, 12, 13, 6]\n",
    "\n",
    "​পঞ্চম উপাদান (6)​​ → 6 কে ঠিক জায়গায় ঢুকিয়ে দেওয়া হয় → [5, 6, 11, 12, 13]\n",
    "\n",
    "✅ ​সর্টিং সম্পন্ন।​\n",
    "\n",
    "⏱️ সময় জটিলতা:\n",
    "​Worst Case / Average Case:​​ O(n²) → যখন অ্যারেটি উল্টো ক্রমে থাকে\n",
    "\n",
    "​Best Case:​​ O(n) → যদি অ্যারেটি ইতিমধ্যেই সাজানো থাকে\n",
    "\n",
    "তবে ​Insertion Sort​ ছোট ডেটা অথবা ​প্রায় সাজানো অ্যারে​ এর ক্ষেত্রে ​খুব দ্রুত ও কার্যকর।"
   ]
  },
  {
   "cell_type": "code",
   "execution_count": null,
   "id": "87e8c879",
   "metadata": {},
   "outputs": [],
   "source": [
    "def Insertion_sort(arr):\n",
    "    n = len(arr)\n",
    "    for i in range(1, n):         # Start from the second element (index 1)\n",
    "        key = arr[i]              # Current element to be inserted\n",
    "        j = i - 1                 # Start comparing with the previous element\n",
    "        while j >= 0 and key < arr[j]:  # Shift elements greater than key to the right\n",
    "            arr[j + 1] = arr[j]\n",
    "            j -= 1\n",
    "        arr[j + 1] = key          # Insert the key in its correct position\n",
    "    return arr"
   ]
  },
  {
   "cell_type": "code",
   "execution_count": 22,
   "id": "ad8edb01",
   "metadata": {},
   "outputs": [
    {
     "data": {
      "text/plain": [
       "[10, 20, 30, 50, 60]"
      ]
     },
     "execution_count": 22,
     "metadata": {},
     "output_type": "execute_result"
    }
   ],
   "source": [
    "arr = [20,60,30,10,50]\n",
    "Insertion_sort(arr)\n",
    "arr"
   ]
  }
 ],
 "metadata": {
  "kernelspec": {
   "display_name": "Python 3",
   "language": "python",
   "name": "python3"
  },
  "language_info": {
   "codemirror_mode": {
    "name": "ipython",
    "version": 3
   },
   "file_extension": ".py",
   "mimetype": "text/x-python",
   "name": "python",
   "nbconvert_exporter": "python",
   "pygments_lexer": "ipython3",
   "version": "3.12.4"
  }
 },
 "nbformat": 4,
 "nbformat_minor": 5
}
