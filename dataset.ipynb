{
 "cells": [
  {
   "cell_type": "code",
   "execution_count": 1,
   "id": "d5330751",
   "metadata": {},
   "outputs": [
    {
     "name": "stdout",
     "output_type": "stream",
     "text": [
      "✅ CSV file 'titanic_sample_data.csv' created with 51 rows of data.\n"
     ]
    }
   ],
   "source": [
    "import pandas as pd\n",
    "\n",
    "# Generate consistent data with EXACTLY 51 rows\n",
    "data = {\n",
    "    \"PassengerId\": list(range(1, 52)),  # 1 to 51 → 51\n",
    "    \"Survived\": [0, 1] * 25 + [0],      # 50 + 1 = 51\n",
    "    \"Pclass\": [1, 2, 3] * 17,           # 17 * 3 = 51 ✅\n",
    "    \"Name\": [f\"Passenger_{i}\" for i in range(1, 52)],  # 51\n",
    "    \"Sex\": [\"male\"] * 25 + [\"female\"] * 26,             # 25 + 26 = 51\n",
    "    \"Age\": [20, 25, 30, 35, 40, 45, 50, 55, 60, 65] * 5 + [22],  # 10 * 5=50 + 1=51\n",
    "    \"SibSp\": [0, 1, 2] * 17,                             # 17 * 3=51\n",
    "    \"Parch\": [0, 1, 0, 1] * 12 + [0, 1],                # 12 * 4=48 + 2=50 ❌ → FIXED\n",
    "    \"Ticket\": [f\"TK_{i:03d}\" for i in range(1, 52)],    # 51\n",
    "    \"Fare\": [10.5, 20.0, 30.5, 40.0, 50.5, 60.0, 70.5, 80.0, 90.5, 100.0] * 5 + [15.0],  # 51\n",
    "    \"Cabin\": [\"C123\", None, \"B456\", None, \"A789\"] * 10 + [\"D321\"],  # 5 * 10=50 + 1=51\n",
    "    \"Embarked\": [\"S\", \"C\", \"Q\"] * 17  # 17 * 3=51 ✅ (removed the extra + [S])\n",
    "}\n",
    "\n",
    "# ❗️BUG: Parch was 48 + 2 = 50, needs to be 51\n",
    "# Let's fix Parch properly:\n",
    "parch_fixed = [0, 1, 0, 1] * 12 + [0, 1]  # 48 + 2 = 50 ❌\n",
    "# Instead, do: [0, 1, 0, 1] * 12 + [0, 1, 0] → 48 + 3 = 51\n",
    "parch_fixed = [0, 1, 0, 1] * 12 + [0, 1, 0]  # 48 + 3 = 51 ✅\n",
    "\n",
    "# Update the data dict with the fixed Parch\n",
    "data[\"Parch\"] = parch_fixed\n",
    "\n",
    "# Create DataFrame\n",
    "df = pd.DataFrame(data)\n",
    "\n",
    "# Save to Excel\n",
    "df.to_csv(\"titanic_sample_data.csv\", index=False)\n",
    "\n",
    "print(\"✅ CSV file 'titanic_sample_data.csv' created with 51 rows of data.\")\n"
   ]
  }
 ],
 "metadata": {
  "kernelspec": {
   "display_name": "myenv",
   "language": "python",
   "name": "python3"
  },
  "language_info": {
   "codemirror_mode": {
    "name": "ipython",
    "version": 3
   },
   "file_extension": ".py",
   "mimetype": "text/x-python",
   "name": "python",
   "nbconvert_exporter": "python",
   "pygments_lexer": "ipython3",
   "version": "3.12.4"
  }
 },
 "nbformat": 4,
 "nbformat_minor": 5
}
